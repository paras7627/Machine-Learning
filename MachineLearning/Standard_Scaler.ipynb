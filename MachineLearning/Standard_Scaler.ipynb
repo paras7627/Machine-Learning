{
  "nbformat": 4,
  "nbformat_minor": 0,
  "metadata": {
    "colab": {
      "provenance": []
    },
    "kernelspec": {
      "name": "python3",
      "display_name": "Python 3"
    },
    "language_info": {
      "name": "python"
    }
  },
  "cells": [
    {
      "cell_type": "code",
      "execution_count": null,
      "metadata": {
        "id": "tSgN5N3HC23y"
      },
      "outputs": [],
      "source": [
        "import pandas as pd\n",
        "import numpy as np\n",
        "import matplotlib.pyplot as plt\n",
        "import seaborn as sns\n",
        "%matplotlib inline\n",
        "\n"
      ]
    },
    {
      "cell_type": "code",
      "source": [
        "from sklearn.datasets import fetch_california_housing\n",
        "housing = fetch_california_housing()"
      ],
      "metadata": {
        "id": "HcGXL7zQE06c"
      },
      "execution_count": null,
      "outputs": []
    },
    {
      "cell_type": "code",
      "source": [
        "from sklearn.datasets import fetch_openml\n",
        "housing = fetch_openml(name=\"house_prices\", as_frame=True)"
      ],
      "metadata": {
        "id": "Sgq7z1oFHN0t"
      },
      "execution_count": null,
      "outputs": []
    },
    {
      "cell_type": "code",
      "source": [
        "df = housing\n",
        "print(df)"
      ],
      "metadata": {
        "colab": {
          "base_uri": "https://localhost:8080/"
        },
        "id": "9MNJ7y0hHRw0",
        "outputId": "51a738af-0c49-4ff7-925f-ca6d412ebc01"
      },
      "execution_count": null,
      "outputs": [
        {
          "output_type": "stream",
          "name": "stdout",
          "text": [
            "{'data':           Id  MSSubClass MSZoning  LotFrontage  LotArea Street Alley LotShape  \\\n",
            "0        1.0        60.0       RL         65.0   8450.0   Pave  None      Reg   \n",
            "1        2.0        20.0       RL         80.0   9600.0   Pave  None      Reg   \n",
            "2        3.0        60.0       RL         68.0  11250.0   Pave  None      IR1   \n",
            "3        4.0        70.0       RL         60.0   9550.0   Pave  None      IR1   \n",
            "4        5.0        60.0       RL         84.0  14260.0   Pave  None      IR1   \n",
            "...      ...         ...      ...          ...      ...    ...   ...      ...   \n",
            "1455  1456.0        60.0       RL         62.0   7917.0   Pave  None      Reg   \n",
            "1456  1457.0        20.0       RL         85.0  13175.0   Pave  None      Reg   \n",
            "1457  1458.0        70.0       RL         66.0   9042.0   Pave  None      Reg   \n",
            "1458  1459.0        20.0       RL         68.0   9717.0   Pave  None      Reg   \n",
            "1459  1460.0        20.0       RL         75.0   9937.0   Pave  None      Reg   \n",
            "\n",
            "     LandContour Utilities  ... ScreenPorch PoolArea PoolQC  Fence  \\\n",
            "0            Lvl    AllPub  ...         0.0      0.0   None   None   \n",
            "1            Lvl    AllPub  ...         0.0      0.0   None   None   \n",
            "2            Lvl    AllPub  ...         0.0      0.0   None   None   \n",
            "3            Lvl    AllPub  ...         0.0      0.0   None   None   \n",
            "4            Lvl    AllPub  ...         0.0      0.0   None   None   \n",
            "...          ...       ...  ...         ...      ...    ...    ...   \n",
            "1455         Lvl    AllPub  ...         0.0      0.0   None   None   \n",
            "1456         Lvl    AllPub  ...         0.0      0.0   None  MnPrv   \n",
            "1457         Lvl    AllPub  ...         0.0      0.0   None  GdPrv   \n",
            "1458         Lvl    AllPub  ...         0.0      0.0   None   None   \n",
            "1459         Lvl    AllPub  ...         0.0      0.0   None   None   \n",
            "\n",
            "     MiscFeature MiscVal MoSold  YrSold  SaleType  SaleCondition  \n",
            "0           None     0.0    2.0  2008.0        WD         Normal  \n",
            "1           None     0.0    5.0  2007.0        WD         Normal  \n",
            "2           None     0.0    9.0  2008.0        WD         Normal  \n",
            "3           None     0.0    2.0  2006.0        WD        Abnorml  \n",
            "4           None     0.0   12.0  2008.0        WD         Normal  \n",
            "...          ...     ...    ...     ...       ...            ...  \n",
            "1455        None     0.0    8.0  2007.0        WD         Normal  \n",
            "1456        None     0.0    2.0  2010.0        WD         Normal  \n",
            "1457        Shed  2500.0    5.0  2010.0        WD         Normal  \n",
            "1458        None     0.0    4.0  2010.0        WD         Normal  \n",
            "1459        None     0.0    6.0  2008.0        WD         Normal  \n",
            "\n",
            "[1460 rows x 80 columns], 'target': 0       208500.0\n",
            "1       181500.0\n",
            "2       223500.0\n",
            "3       140000.0\n",
            "4       250000.0\n",
            "          ...   \n",
            "1455    175000.0\n",
            "1456    210000.0\n",
            "1457    266500.0\n",
            "1458    142125.0\n",
            "1459    147500.0\n",
            "Name: SalePrice, Length: 1460, dtype: float64, 'frame':           Id  MSSubClass MSZoning  LotFrontage  LotArea Street Alley LotShape  \\\n",
            "0        1.0        60.0       RL         65.0   8450.0   Pave  None      Reg   \n",
            "1        2.0        20.0       RL         80.0   9600.0   Pave  None      Reg   \n",
            "2        3.0        60.0       RL         68.0  11250.0   Pave  None      IR1   \n",
            "3        4.0        70.0       RL         60.0   9550.0   Pave  None      IR1   \n",
            "4        5.0        60.0       RL         84.0  14260.0   Pave  None      IR1   \n",
            "...      ...         ...      ...          ...      ...    ...   ...      ...   \n",
            "1455  1456.0        60.0       RL         62.0   7917.0   Pave  None      Reg   \n",
            "1456  1457.0        20.0       RL         85.0  13175.0   Pave  None      Reg   \n",
            "1457  1458.0        70.0       RL         66.0   9042.0   Pave  None      Reg   \n",
            "1458  1459.0        20.0       RL         68.0   9717.0   Pave  None      Reg   \n",
            "1459  1460.0        20.0       RL         75.0   9937.0   Pave  None      Reg   \n",
            "\n",
            "     LandContour Utilities  ... PoolArea PoolQC  Fence MiscFeature MiscVal  \\\n",
            "0            Lvl    AllPub  ...      0.0   None   None        None     0.0   \n",
            "1            Lvl    AllPub  ...      0.0   None   None        None     0.0   \n",
            "2            Lvl    AllPub  ...      0.0   None   None        None     0.0   \n",
            "3            Lvl    AllPub  ...      0.0   None   None        None     0.0   \n",
            "4            Lvl    AllPub  ...      0.0   None   None        None     0.0   \n",
            "...          ...       ...  ...      ...    ...    ...         ...     ...   \n",
            "1455         Lvl    AllPub  ...      0.0   None   None        None     0.0   \n",
            "1456         Lvl    AllPub  ...      0.0   None  MnPrv        None     0.0   \n",
            "1457         Lvl    AllPub  ...      0.0   None  GdPrv        Shed  2500.0   \n",
            "1458         Lvl    AllPub  ...      0.0   None   None        None     0.0   \n",
            "1459         Lvl    AllPub  ...      0.0   None   None        None     0.0   \n",
            "\n",
            "     MoSold  YrSold  SaleType  SaleCondition  SalePrice  \n",
            "0       2.0  2008.0        WD         Normal   208500.0  \n",
            "1       5.0  2007.0        WD         Normal   181500.0  \n",
            "2       9.0  2008.0        WD         Normal   223500.0  \n",
            "3       2.0  2006.0        WD        Abnorml   140000.0  \n",
            "4      12.0  2008.0        WD         Normal   250000.0  \n",
            "...     ...     ...       ...            ...        ...  \n",
            "1455    8.0  2007.0        WD         Normal   175000.0  \n",
            "1456    2.0  2010.0        WD         Normal   210000.0  \n",
            "1457    5.0  2010.0        WD         Normal   266500.0  \n",
            "1458    4.0  2010.0        WD         Normal   142125.0  \n",
            "1459    6.0  2008.0        WD         Normal   147500.0  \n",
            "\n",
            "[1460 rows x 81 columns], 'categories': None, 'feature_names': ['Id', 'MSSubClass', 'MSZoning', 'LotFrontage', 'LotArea', 'Street', 'Alley', 'LotShape', 'LandContour', 'Utilities', 'LotConfig', 'LandSlope', 'Neighborhood', 'Condition1', 'Condition2', 'BldgType', 'HouseStyle', 'OverallQual', 'OverallCond', 'YearBuilt', 'YearRemodAdd', 'RoofStyle', 'RoofMatl', 'Exterior1st', 'Exterior2nd', 'MasVnrType', 'MasVnrArea', 'ExterQual', 'ExterCond', 'Foundation', 'BsmtQual', 'BsmtCond', 'BsmtExposure', 'BsmtFinType1', 'BsmtFinSF1', 'BsmtFinType2', 'BsmtFinSF2', 'BsmtUnfSF', 'TotalBsmtSF', 'Heating', 'HeatingQC', 'CentralAir', 'Electrical', '1stFlrSF', '2ndFlrSF', 'LowQualFinSF', 'GrLivArea', 'BsmtFullBath', 'BsmtHalfBath', 'FullBath', 'HalfBath', 'BedroomAbvGr', 'KitchenAbvGr', 'KitchenQual', 'TotRmsAbvGrd', 'Functional', 'Fireplaces', 'FireplaceQu', 'GarageType', 'GarageYrBlt', 'GarageFinish', 'GarageCars', 'GarageArea', 'GarageQual', 'GarageCond', 'PavedDrive', 'WoodDeckSF', 'OpenPorchSF', 'EnclosedPorch', '3SsnPorch', 'ScreenPorch', 'PoolArea', 'PoolQC', 'Fence', 'MiscFeature', 'MiscVal', 'MoSold', 'YrSold', 'SaleType', 'SaleCondition'], 'target_names': ['SalePrice'], 'DESCR': \"Ask a home buyer to describe their dream house, and they probably won't begin with the height of the basement ceiling or the proximity to an east-west railroad. But this playground competition's dataset proves that much more influences price negotiations than the number of bedrooms or a white-picket fence.\\n\\nWith 79 explanatory variables describing (almost) every aspect of residential homes in Ames, Iowa, this competition challenges you to predict the final price of each home.\\n\\nMSSubClass: Identifies the type of dwelling involved in the sale.\\t\\n\\n        20\\t1-STORY 1946 & NEWER ALL STYLES\\n        30\\t1-STORY 1945 & OLDER\\n        40\\t1-STORY W/FINISHED ATTIC ALL AGES\\n        45\\t1-1/2 STORY - UNFINISHED ALL AGES\\n        50\\t1-1/2 STORY FINISHED ALL AGES\\n        60\\t2-STORY 1946 & NEWER\\n        70\\t2-STORY 1945 & OLDER\\n        75\\t2-1/2 STORY ALL AGES\\n        80\\tSPLIT OR MULTI-LEVEL\\n        85\\tSPLIT FOYER\\n        90\\tDUPLEX - ALL STYLES AND AGES\\n       120\\t1-STORY PUD (Planned Unit Development) - 1946 & NEWER\\n       150\\t1-1/2 STORY PUD - ALL AGES\\n       160\\t2-STORY PUD - 1946 & NEWER\\n       180\\tPUD - MULTILEVEL - INCL SPLIT LEV/FOYER\\n       190\\t2 FAMILY CONVERSION - ALL STYLES AND AGES\\n\\nMSZoning: Identifies the general zoning classification of the sale.\\n\\t\\t\\n       A\\tAgriculture\\n       C\\tCommercial\\n       FV\\tFloating Village Residential\\n       I\\tIndustrial\\n       RH\\tResidential High Density\\n       RL\\tResidential Low Density\\n       RP\\tResidential Low Density Park \\n       RM\\tResidential Medium Density\\n\\t\\nLotFrontage: Linear feet of street connected to property\\n\\nLotArea: Lot size in square feet\\n\\nStreet: Type of road access to property\\n\\n       Grvl\\tGravel\\t\\n       Pave\\tPaved\\n       \\t\\nAlley: Type of alley access to property\\n\\n       Grvl\\tGravel\\n       Pave\\tPaved\\n       NA \\tNo alley access\\n\\t\\t\\nLotShape: General shape of property\\n\\n       Reg\\tRegular\\t\\n       IR1\\tSlightly irregular\\n       IR2\\tModerately Irregular\\n       IR3\\tIrregular\\n       \\nLandContour: Flatness of the property\\n\\n       Lvl\\tNear Flat/Level\\t\\n       Bnk\\tBanked - Quick and significant rise from street grade to building\\n       HLS\\tHillside - Significant slope from side to side\\n       Low\\tDepression\\n\\t\\t\\nUtilities: Type of utilities available\\n\\t\\t\\n       AllPub\\tAll public Utilities (E,G,W,& S)\\t\\n       NoSewr\\tElectricity, Gas, and Water (Septic Tank)\\n       NoSeWa\\tElectricity and Gas Only\\n       ELO\\tElectricity only\\t\\n\\t\\nLotConfig: Lot configuration\\n\\n       Inside\\tInside lot\\n       Corner\\tCorner lot\\n       CulDSac\\tCul-de-sac\\n       FR2\\tFrontage on 2 sides of property\\n       FR3\\tFrontage on 3 sides of property\\n\\t\\nLandSlope: Slope of property\\n\\t\\t\\n       Gtl\\tGentle slope\\n       Mod\\tModerate Slope\\t\\n       Sev\\tSevere Slope\\n\\t\\nNeighborhood: Physical locations within Ames city limits\\n\\n       Blmngtn\\tBloomington Heights\\n       Blueste\\tBluestem\\n       BrDale\\tBriardale\\n       BrkSide\\tBrookside\\n       ClearCr\\tClear Creek\\n       CollgCr\\tCollege Creek\\n       Crawfor\\tCrawford\\n       Edwards\\tEdwards\\n       Gilbert\\tGilbert\\n       IDOTRR\\tIowa DOT and Rail Road\\n       MeadowV\\tMeadow Village\\n       Mitchel\\tMitchell\\n       Names\\tNorth Ames\\n       NoRidge\\tNorthridge\\n       NPkVill\\tNorthpark Villa\\n       NridgHt\\tNorthridge Heights\\n       NWAmes\\tNorthwest Ames\\n       OldTown\\tOld Town\\n       SWISU\\tSouth & West of Iowa State University\\n       Sawyer\\tSawyer\\n       SawyerW\\tSawyer West\\n       Somerst\\tSomerset\\n       StoneBr\\tStone Brook\\n       Timber\\tTimberland\\n       Veenker\\tVeenker\\n\\t\\t\\t\\nCondition1: Proximity to various conditions\\n\\t\\n       Artery\\tAdjacent to arterial street\\n       Feedr\\tAdjacent to feeder street\\t\\n       Norm\\tNormal\\t\\n       RRNn\\tWithin 200' of North-South Railroad\\n       RRAn\\tAdjacent to North-South Railroad\\n       PosN\\tNear positive off-site feature--park, greenbelt, etc.\\n       PosA\\tAdjacent to postive off-site feature\\n       RRNe\\tWithin 200' of East-West Railroad\\n       RRAe\\tAdjacent to East-West Railroad\\n\\t\\nCondition2: Proximity to various conditions (if more than one is present)\\n\\t\\t\\n       Artery\\tAdjacent to arterial street\\n       Feedr\\tAdjacent to feeder street\\t\\n       Norm\\tNormal\\t\\n       RRNn\\tWithin 200' of North-South Railroad\\n       RRAn\\tAdjacent to North-South Railroad\\n       PosN\\tNear positive off-site feature--park, greenbelt, etc.\\n       PosA\\tAdjacent to postive off-site feature\\n       RRNe\\tWithin 200' of East-West Railroad\\n       RRAe\\tAdjacent to East-West Railroad\\n\\t\\nBldgType: Type of dwelling\\n\\t\\t\\n       1Fam\\tSingle-family Detached\\t\\n       2FmCon\\tTwo-family Conversion; originally built as one-family dwelling\\n       Duplx\\tDuplex\\n       TwnhsE\\tTownhouse End Unit\\n       TwnhsI\\tTownhouse Inside Unit\\n\\t\\nHouseStyle: Style of dwelling\\n\\t\\n       1Story\\tOne story\\n       1.5Fin\\tOne and one-half story: 2nd level finished\\n       1.5Unf\\tOne and one-half story: 2nd level unfinished\\n       2Story\\tTwo story\\n       2.5Fin\\tTwo and one-half story: 2nd level finished\\n       2.5Unf\\tTwo and one-half story: 2nd level unfinished\\n       SFoyer\\tSplit Foyer\\n       SLvl\\tSplit Level\\n\\t\\nOverallQual: Rates the overall material and finish of the house\\n\\n       10\\tVery Excellent\\n       9\\tExcellent\\n       8\\tVery Good\\n       7\\tGood\\n       6\\tAbove Average\\n       5\\tAverage\\n       4\\tBelow Average\\n       3\\tFair\\n       2\\tPoor\\n       1\\tVery Poor\\n\\t\\nOverallCond: Rates the overall condition of the house\\n\\n       10\\tVery Excellent\\n       9\\tExcellent\\n       8\\tVery Good\\n       7\\tGood\\n       6\\tAbove Average\\t\\n       5\\tAverage\\n       4\\tBelow Average\\t\\n       3\\tFair\\n       2\\tPoor\\n       1\\tVery Poor\\n\\t\\t\\nYearBuilt: Original construction date\\n\\nYearRemodAdd: Remodel date (same as construction date if no remodeling or additions)\\n\\nRoofStyle: Type of roof\\n\\n       Flat\\tFlat\\n       Gable\\tGable\\n       Gambrel\\tGabrel (Barn)\\n       Hip\\tHip\\n       Mansard\\tMansard\\n       Shed\\tShed\\n\\t\\t\\nRoofMatl: Roof material\\n\\n       ClyTile\\tClay or Tile\\n       CompShg\\tStandard (Composite) Shingle\\n       Membran\\tMembrane\\n       Metal\\tMetal\\n       Roll\\tRoll\\n       Tar&Grv\\tGravel & Tar\\n       WdShake\\tWood Shakes\\n       WdShngl\\tWood Shingles\\n\\t\\t\\nExterior1st: Exterior covering on house\\n\\n       AsbShng\\tAsbestos Shingles\\n       AsphShn\\tAsphalt Shingles\\n       BrkComm\\tBrick Common\\n       BrkFace\\tBrick Face\\n       CBlock\\tCinder Block\\n       CemntBd\\tCement Board\\n       HdBoard\\tHard Board\\n       ImStucc\\tImitation Stucco\\n       MetalSd\\tMetal Siding\\n       Other\\tOther\\n       Plywood\\tPlywood\\n       PreCast\\tPreCast\\t\\n       Stone\\tStone\\n       Stucco\\tStucco\\n       VinylSd\\tVinyl Siding\\n       Wd Sdng\\tWood Siding\\n       WdShing\\tWood Shingles\\n\\t\\nExterior2nd: Exterior covering on house (if more than one material)\\n\\n       AsbShng\\tAsbestos Shingles\\n       AsphShn\\tAsphalt Shingles\\n       BrkComm\\tBrick Common\\n       BrkFace\\tBrick Face\\n       CBlock\\tCinder Block\\n       CemntBd\\tCement Board\\n       HdBoard\\tHard Board\\n       ImStucc\\tImitation Stucco\\n       MetalSd\\tMetal Siding\\n       Other\\tOther\\n       Plywood\\tPlywood\\n       PreCast\\tPreCast\\n       Stone\\tStone\\n       Stucco\\tStucco\\n       VinylSd\\tVinyl Siding\\n       Wd Sdng\\tWood Siding\\n       WdShing\\tWood Shingles\\n\\t\\nMasVnrType: Masonry veneer type\\n\\n       BrkCmn\\tBrick Common\\n       BrkFace\\tBrick Face\\n       CBlock\\tCinder Block\\n       None\\tNone\\n       Stone\\tStone\\n\\t\\nMasVnrArea: Masonry veneer area in square feet\\n\\nExterQual: Evaluates the quality of the material on the exterior \\n\\t\\t\\n       Ex\\tExcellent\\n       Gd\\tGood\\n       TA\\tAverage/Typical\\n       Fa\\tFair\\n       Po\\tPoor\\n\\t\\t\\nExterCond: Evaluates the present condition of the material on the exterior\\n\\t\\t\\n       Ex\\tExcellent\\n       Gd\\tGood\\n       TA\\tAverage/Typical\\n       Fa\\tFair\\n       Po\\tPoor\\n\\t\\t\\nFoundation: Type of foundation\\n\\t\\t\\n       BrkTil\\tBrick & Tile\\n       CBlock\\tCinder Block\\n       PConc\\tPoured Contrete\\t\\n       Slab\\tSlab\\n       Stone\\tStone\\n       Wood\\tWood\\n\\t\\t\\nBsmtQual: Evaluates the height of the basement\\n\\n       Ex\\tExcellent (100+ inches)\\t\\n       Gd\\tGood (90-99 inches)\\n       TA\\tTypical (80-89 inches)\\n       Fa\\tFair (70-79 inches)\\n       Po\\tPoor (<70 inches\\n       NA\\tNo Basement\\n\\t\\t\\nBsmtCond: Evaluates the general condition of the basement\\n\\n       Ex\\tExcellent\\n       Gd\\tGood\\n       TA\\tTypical - slight dampness allowed\\n       Fa\\tFair - dampness or some cracking or settling\\n       Po\\tPoor - Severe cracking, settling, or wetness\\n       NA\\tNo Basement\\n\\t\\nBsmtExposure: Refers to walkout or garden level walls\\n\\n       Gd\\tGood Exposure\\n       Av\\tAverage Exposure (split levels or foyers typically score average or above)\\t\\n       Mn\\tMimimum Exposure\\n       No\\tNo Exposure\\n       NA\\tNo Basement\\n\\t\\nBsmtFinType1: Rating of basement finished area\\n\\n       GLQ\\tGood Living Quarters\\n       ALQ\\tAverage Living Quarters\\n       BLQ\\tBelow Average Living Quarters\\t\\n       Rec\\tAverage Rec Room\\n       LwQ\\tLow Quality\\n       Unf\\tUnfinshed\\n       NA\\tNo Basement\\n\\t\\t\\nBsmtFinSF1: Type 1 finished square feet\\n\\nBsmtFinType2: Rating of basement finished area (if multiple types)\\n\\n       GLQ\\tGood Living Quarters\\n       ALQ\\tAverage Living Quarters\\n       BLQ\\tBelow Average Living Quarters\\t\\n       Rec\\tAverage Rec Room\\n       LwQ\\tLow Quality\\n       Unf\\tUnfinshed\\n       NA\\tNo Basement\\n\\nBsmtFinSF2: Type 2 finished square feet\\n\\nBsmtUnfSF: Unfinished square feet of basement area\\n\\nTotalBsmtSF: Total square feet of basement area\\n\\nHeating: Type of heating\\n\\t\\t\\n       Floor\\tFloor Furnace\\n       GasA\\tGas forced warm air furnace\\n       GasW\\tGas hot water or steam heat\\n       Grav\\tGravity furnace\\t\\n       OthW\\tHot water or steam heat other than gas\\n       Wall\\tWall furnace\\n\\t\\t\\nHeatingQC: Heating quality and condition\\n\\n       Ex\\tExcellent\\n       Gd\\tGood\\n       TA\\tAverage/Typical\\n       Fa\\tFair\\n       Po\\tPoor\\n\\t\\t\\nCentralAir: Central air conditioning\\n\\n       N\\tNo\\n       Y\\tYes\\n\\t\\t\\nElectrical: Electrical system\\n\\n       SBrkr\\tStandard Circuit Breakers & Romex\\n       FuseA\\tFuse Box over 60 AMP and all Romex wiring (Average)\\t\\n       FuseF\\t60 AMP Fuse Box and mostly Romex wiring (Fair)\\n       FuseP\\t60 AMP Fuse Box and mostly knob & tube wiring (poor)\\n       Mix\\tMixed\\n\\t\\t\\n1stFlrSF: First Floor square feet\\n \\n2ndFlrSF: Second floor square feet\\n\\nLowQualFinSF: Low quality finished square feet (all floors)\\n\\nGrLivArea: Above grade (ground) living area square feet\\n\\nBsmtFullBath: Basement full bathrooms\\n\\nBsmtHalfBath: Basement half bathrooms\\n\\nFullBath: Full bathrooms above grade\\n\\nHalfBath: Half baths above grade\\n\\nBedroom: Bedrooms above grade (does NOT include basement bedrooms)\\n\\nKitchen: Kitchens above grade\\n\\nKitchenQual: Kitchen quality\\n\\n       Ex\\tExcellent\\n       Gd\\tGood\\n       TA\\tTypical/Average\\n       Fa\\tFair\\n       Po\\tPoor\\n       \\t\\nTotRmsAbvGrd: Total rooms above grade (does not include bathrooms)\\n\\nFunctional: Home functionality (Assume typical unless deductions are warranted)\\n\\n       Typ\\tTypical Functionality\\n       Min1\\tMinor Deductions 1\\n       Min2\\tMinor Deductions 2\\n       Mod\\tModerate Deductions\\n       Maj1\\tMajor Deductions 1\\n       Maj2\\tMajor Deductions 2\\n       Sev\\tSeverely Damaged\\n       Sal\\tSalvage only\\n\\t\\t\\nFireplaces: Number of fireplaces\\n\\nFireplaceQu: Fireplace quality\\n\\n       Ex\\tExcellent - Exceptional Masonry Fireplace\\n       Gd\\tGood - Masonry Fireplace in main level\\n       TA\\tAverage - Prefabricated Fireplace in main living area or Masonry Fireplace in basement\\n       Fa\\tFair - Prefabricated Fireplace in basement\\n       Po\\tPoor - Ben Franklin Stove\\n       NA\\tNo Fireplace\\n\\t\\t\\nGarageType: Garage location\\n\\t\\t\\n       2Types\\tMore than one type of garage\\n       Attchd\\tAttached to home\\n       Basment\\tBasement Garage\\n       BuiltIn\\tBuilt-In (Garage part of house - typically has room above garage)\\n       CarPort\\tCar Port\\n       Detchd\\tDetached from home\\n       NA\\tNo Garage\\n\\t\\t\\nGarageYrBlt: Year garage was built\\n\\t\\t\\nGarageFinish: Interior finish of the garage\\n\\n       Fin\\tFinished\\n       RFn\\tRough Finished\\t\\n       Unf\\tUnfinished\\n       NA\\tNo Garage\\n\\t\\t\\nGarageCars: Size of garage in car capacity\\n\\nGarageArea: Size of garage in square feet\\n\\nGarageQual: Garage quality\\n\\n       Ex\\tExcellent\\n       Gd\\tGood\\n       TA\\tTypical/Average\\n       Fa\\tFair\\n       Po\\tPoor\\n       NA\\tNo Garage\\n\\t\\t\\nGarageCond: Garage condition\\n\\n       Ex\\tExcellent\\n       Gd\\tGood\\n       TA\\tTypical/Average\\n       Fa\\tFair\\n       Po\\tPoor\\n       NA\\tNo Garage\\n\\t\\t\\nPavedDrive: Paved driveway\\n\\n       Y\\tPaved \\n       P\\tPartial Pavement\\n       N\\tDirt/Gravel\\n\\t\\t\\nWoodDeckSF: Wood deck area in square feet\\n\\nOpenPorchSF: Open porch area in square feet\\n\\nEnclosedPorch: Enclosed porch area in square feet\\n\\n3SsnPorch: Three season porch area in square feet\\n\\nScreenPorch: Screen porch area in square feet\\n\\nPoolArea: Pool area in square feet\\n\\nPoolQC: Pool quality\\n\\t\\t\\n       Ex\\tExcellent\\n       Gd\\tGood\\n       TA\\tAverage/Typical\\n       Fa\\tFair\\n       NA\\tNo Pool\\n\\t\\t\\nFence: Fence quality\\n\\t\\t\\n       GdPrv\\tGood Privacy\\n       MnPrv\\tMinimum Privacy\\n       GdWo\\tGood Wood\\n       MnWw\\tMinimum Wood/Wire\\n       NA\\tNo Fence\\n\\t\\nMiscFeature: Miscellaneous feature not covered in other categories\\n\\t\\t\\n       Elev\\tElevator\\n       Gar2\\t2nd Garage (if not described in garage section)\\n       Othr\\tOther\\n       Shed\\tShed (over 100 SF)\\n       TenC\\tTennis Court\\n       NA\\tNone\\n\\t\\t\\nMiscVal: $Value of miscellaneous feature\\n\\nMoSold: Month Sold (MM)\\n\\nYrSold: Year Sold (YYYY)\\n\\nSaleType: Type of sale\\n\\t\\t\\n       WD \\tWarranty Deed - Conventional\\n       CWD\\tWarranty Deed - Cash\\n       VWD\\tWarranty Deed - VA Loan\\n       New\\tHome just constructed and sold\\n       COD\\tCourt Officer Deed/Estate\\n       Con\\tContract 15% Down payment regular terms\\n       ConLw\\tContract Low Down payment and low interest\\n       ConLI\\tContract Low Interest\\n       ConLD\\tContract Low Down\\n       Oth\\tOther\\n\\t\\t\\nSaleCondition: Condition of sale\\n\\n       Normal\\tNormal Sale\\n       Abnorml\\tAbnormal Sale -  trade, foreclosure, short sale\\n       AdjLand\\tAdjoining Land Purchase\\n       Alloca\\tAllocation - two linked properties with separate deeds, typically condo with a garage unit\\t\\n       Family\\tSale between family members\\n       Partial\\tHome was not completed when last assessed (associated with New Homes)\\n\\nDownloaded from openml.org.\", 'details': {'id': '42165', 'name': 'house_prices', 'version': '1', 'description_version': '1', 'format': 'arff', 'creator': 'OkCupid', 'collection_date': 'NA', 'upload_date': '2019-10-04T12:57:32', 'language': 'English', 'licence': 'NA', 'url': 'https://api.openml.org/data/v1/download/21754539/house_prices.arff', 'parquet_url': 'http://openml1.win.tue.nl/dataset42165/dataset_42165.pq', 'file_id': '21754539', 'default_target_attribute': 'SalePrice', 'version_label': '0.1', 'visibility': 'public', 'original_data_url': 'https://www.kaggle.com/c/house-prices-advanced-regression-techniques/overview', 'paper_url': 'https://www.kaggle.com/c/house-prices-advanced-regression-techniques/overview', 'minio_url': 'http://openml1.win.tue.nl/dataset42165/dataset_42165.pq', 'status': 'active', 'processing_date': '2019-10-04 12:58:02', 'md5_checksum': 'd5ca59f8d02b1b1c127034392c0f995f'}, 'url': 'https://www.openml.org/d/42165'}\n"
          ]
        }
      ]
    },
    {
      "cell_type": "code",
      "source": [
        "from google.colab import files\n",
        "uploaded = files.upload()"
      ],
      "metadata": {
        "colab": {
          "resources": {
            "http://localhost:8080/nbextensions/google.colab/files.js": {
              "data": "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",
              "ok": true,
              "headers": [
                [
                  "content-type",
                  "application/javascript"
                ]
              ],
              "status": 200,
              "status_text": ""
            }
          },
          "base_uri": "https://localhost:8080/",
          "height": 73
        },
        "id": "yOQVr700HxLU",
        "outputId": "730cee21-c3b0-48e9-f8a4-0f07d17af28e"
      },
      "execution_count": null,
      "outputs": [
        {
          "output_type": "display_data",
          "data": {
            "text/plain": [
              "<IPython.core.display.HTML object>"
            ],
            "text/html": [
              "\n",
              "     <input type=\"file\" id=\"files-0e75ad04-c930-41fe-8f2f-ac15bb9faae8\" name=\"files[]\" multiple disabled\n",
              "        style=\"border:none\" />\n",
              "     <output id=\"result-0e75ad04-c930-41fe-8f2f-ac15bb9faae8\">\n",
              "      Upload widget is only available when the cell has been executed in the\n",
              "      current browser session. Please rerun this cell to enable.\n",
              "      </output>\n",
              "      <script src=\"/nbextensions/google.colab/files.js\"></script> "
            ]
          },
          "metadata": {}
        },
        {
          "output_type": "stream",
          "name": "stdout",
          "text": [
            "Saving Housing.csv to Housing.csv\n"
          ]
        }
      ]
    },
    {
      "cell_type": "code",
      "source": [
        "df = pd.read_csv(r'Housing.csv')\n",
        "df"
      ],
      "metadata": {
        "colab": {
          "base_uri": "https://localhost:8080/",
          "height": 424
        },
        "id": "cP22feneI3HP",
        "outputId": "ee71d157-62d9-4cef-9732-7d3fe733a989"
      },
      "execution_count": null,
      "outputs": [
        {
          "output_type": "execute_result",
          "data": {
            "text/plain": [
              "        price  area  bedrooms  bathrooms  stories mainroad guestroom basement  \\\n",
              "0    13300000  7420         4          2        3      yes        no       no   \n",
              "1    12250000  8960         4          4        4      yes        no       no   \n",
              "2    12250000  9960         3          2        2      yes        no      yes   \n",
              "3    12215000  7500         4          2        2      yes        no      yes   \n",
              "4    11410000  7420         4          1        2      yes       yes      yes   \n",
              "..        ...   ...       ...        ...      ...      ...       ...      ...   \n",
              "540   1820000  3000         2          1        1      yes        no      yes   \n",
              "541   1767150  2400         3          1        1       no        no       no   \n",
              "542   1750000  3620         2          1        1      yes        no       no   \n",
              "543   1750000  2910         3          1        1       no        no       no   \n",
              "544   1750000  3850         3          1        2      yes        no       no   \n",
              "\n",
              "    hotwaterheating airconditioning  parking prefarea furnishingstatus  \n",
              "0                no             yes        2      yes        furnished  \n",
              "1                no             yes        3       no        furnished  \n",
              "2                no              no        2      yes   semi-furnished  \n",
              "3                no             yes        3      yes        furnished  \n",
              "4                no             yes        2       no        furnished  \n",
              "..              ...             ...      ...      ...              ...  \n",
              "540              no              no        2       no      unfurnished  \n",
              "541              no              no        0       no   semi-furnished  \n",
              "542              no              no        0       no      unfurnished  \n",
              "543              no              no        0       no        furnished  \n",
              "544              no              no        0       no      unfurnished  \n",
              "\n",
              "[545 rows x 13 columns]"
            ],
            "text/html": [
              "\n",
              "  <div id=\"df-511f5220-bb8d-438d-b0a2-c8a65c820e67\">\n",
              "    <div class=\"colab-df-container\">\n",
              "      <div>\n",
              "<style scoped>\n",
              "    .dataframe tbody tr th:only-of-type {\n",
              "        vertical-align: middle;\n",
              "    }\n",
              "\n",
              "    .dataframe tbody tr th {\n",
              "        vertical-align: top;\n",
              "    }\n",
              "\n",
              "    .dataframe thead th {\n",
              "        text-align: right;\n",
              "    }\n",
              "</style>\n",
              "<table border=\"1\" class=\"dataframe\">\n",
              "  <thead>\n",
              "    <tr style=\"text-align: right;\">\n",
              "      <th></th>\n",
              "      <th>price</th>\n",
              "      <th>area</th>\n",
              "      <th>bedrooms</th>\n",
              "      <th>bathrooms</th>\n",
              "      <th>stories</th>\n",
              "      <th>mainroad</th>\n",
              "      <th>guestroom</th>\n",
              "      <th>basement</th>\n",
              "      <th>hotwaterheating</th>\n",
              "      <th>airconditioning</th>\n",
              "      <th>parking</th>\n",
              "      <th>prefarea</th>\n",
              "      <th>furnishingstatus</th>\n",
              "    </tr>\n",
              "  </thead>\n",
              "  <tbody>\n",
              "    <tr>\n",
              "      <th>0</th>\n",
              "      <td>13300000</td>\n",
              "      <td>7420</td>\n",
              "      <td>4</td>\n",
              "      <td>2</td>\n",
              "      <td>3</td>\n",
              "      <td>yes</td>\n",
              "      <td>no</td>\n",
              "      <td>no</td>\n",
              "      <td>no</td>\n",
              "      <td>yes</td>\n",
              "      <td>2</td>\n",
              "      <td>yes</td>\n",
              "      <td>furnished</td>\n",
              "    </tr>\n",
              "    <tr>\n",
              "      <th>1</th>\n",
              "      <td>12250000</td>\n",
              "      <td>8960</td>\n",
              "      <td>4</td>\n",
              "      <td>4</td>\n",
              "      <td>4</td>\n",
              "      <td>yes</td>\n",
              "      <td>no</td>\n",
              "      <td>no</td>\n",
              "      <td>no</td>\n",
              "      <td>yes</td>\n",
              "      <td>3</td>\n",
              "      <td>no</td>\n",
              "      <td>furnished</td>\n",
              "    </tr>\n",
              "    <tr>\n",
              "      <th>2</th>\n",
              "      <td>12250000</td>\n",
              "      <td>9960</td>\n",
              "      <td>3</td>\n",
              "      <td>2</td>\n",
              "      <td>2</td>\n",
              "      <td>yes</td>\n",
              "      <td>no</td>\n",
              "      <td>yes</td>\n",
              "      <td>no</td>\n",
              "      <td>no</td>\n",
              "      <td>2</td>\n",
              "      <td>yes</td>\n",
              "      <td>semi-furnished</td>\n",
              "    </tr>\n",
              "    <tr>\n",
              "      <th>3</th>\n",
              "      <td>12215000</td>\n",
              "      <td>7500</td>\n",
              "      <td>4</td>\n",
              "      <td>2</td>\n",
              "      <td>2</td>\n",
              "      <td>yes</td>\n",
              "      <td>no</td>\n",
              "      <td>yes</td>\n",
              "      <td>no</td>\n",
              "      <td>yes</td>\n",
              "      <td>3</td>\n",
              "      <td>yes</td>\n",
              "      <td>furnished</td>\n",
              "    </tr>\n",
              "    <tr>\n",
              "      <th>4</th>\n",
              "      <td>11410000</td>\n",
              "      <td>7420</td>\n",
              "      <td>4</td>\n",
              "      <td>1</td>\n",
              "      <td>2</td>\n",
              "      <td>yes</td>\n",
              "      <td>yes</td>\n",
              "      <td>yes</td>\n",
              "      <td>no</td>\n",
              "      <td>yes</td>\n",
              "      <td>2</td>\n",
              "      <td>no</td>\n",
              "      <td>furnished</td>\n",
              "    </tr>\n",
              "    <tr>\n",
              "      <th>...</th>\n",
              "      <td>...</td>\n",
              "      <td>...</td>\n",
              "      <td>...</td>\n",
              "      <td>...</td>\n",
              "      <td>...</td>\n",
              "      <td>...</td>\n",
              "      <td>...</td>\n",
              "      <td>...</td>\n",
              "      <td>...</td>\n",
              "      <td>...</td>\n",
              "      <td>...</td>\n",
              "      <td>...</td>\n",
              "      <td>...</td>\n",
              "    </tr>\n",
              "    <tr>\n",
              "      <th>540</th>\n",
              "      <td>1820000</td>\n",
              "      <td>3000</td>\n",
              "      <td>2</td>\n",
              "      <td>1</td>\n",
              "      <td>1</td>\n",
              "      <td>yes</td>\n",
              "      <td>no</td>\n",
              "      <td>yes</td>\n",
              "      <td>no</td>\n",
              "      <td>no</td>\n",
              "      <td>2</td>\n",
              "      <td>no</td>\n",
              "      <td>unfurnished</td>\n",
              "    </tr>\n",
              "    <tr>\n",
              "      <th>541</th>\n",
              "      <td>1767150</td>\n",
              "      <td>2400</td>\n",
              "      <td>3</td>\n",
              "      <td>1</td>\n",
              "      <td>1</td>\n",
              "      <td>no</td>\n",
              "      <td>no</td>\n",
              "      <td>no</td>\n",
              "      <td>no</td>\n",
              "      <td>no</td>\n",
              "      <td>0</td>\n",
              "      <td>no</td>\n",
              "      <td>semi-furnished</td>\n",
              "    </tr>\n",
              "    <tr>\n",
              "      <th>542</th>\n",
              "      <td>1750000</td>\n",
              "      <td>3620</td>\n",
              "      <td>2</td>\n",
              "      <td>1</td>\n",
              "      <td>1</td>\n",
              "      <td>yes</td>\n",
              "      <td>no</td>\n",
              "      <td>no</td>\n",
              "      <td>no</td>\n",
              "      <td>no</td>\n",
              "      <td>0</td>\n",
              "      <td>no</td>\n",
              "      <td>unfurnished</td>\n",
              "    </tr>\n",
              "    <tr>\n",
              "      <th>543</th>\n",
              "      <td>1750000</td>\n",
              "      <td>2910</td>\n",
              "      <td>3</td>\n",
              "      <td>1</td>\n",
              "      <td>1</td>\n",
              "      <td>no</td>\n",
              "      <td>no</td>\n",
              "      <td>no</td>\n",
              "      <td>no</td>\n",
              "      <td>no</td>\n",
              "      <td>0</td>\n",
              "      <td>no</td>\n",
              "      <td>furnished</td>\n",
              "    </tr>\n",
              "    <tr>\n",
              "      <th>544</th>\n",
              "      <td>1750000</td>\n",
              "      <td>3850</td>\n",
              "      <td>3</td>\n",
              "      <td>1</td>\n",
              "      <td>2</td>\n",
              "      <td>yes</td>\n",
              "      <td>no</td>\n",
              "      <td>no</td>\n",
              "      <td>no</td>\n",
              "      <td>no</td>\n",
              "      <td>0</td>\n",
              "      <td>no</td>\n",
              "      <td>unfurnished</td>\n",
              "    </tr>\n",
              "  </tbody>\n",
              "</table>\n",
              "<p>545 rows × 13 columns</p>\n",
              "</div>\n",
              "      <button class=\"colab-df-convert\" onclick=\"convertToInteractive('df-511f5220-bb8d-438d-b0a2-c8a65c820e67')\"\n",
              "              title=\"Convert this dataframe to an interactive table.\"\n",
              "              style=\"display:none;\">\n",
              "        \n",
              "  <svg xmlns=\"http://www.w3.org/2000/svg\" height=\"24px\"viewBox=\"0 0 24 24\"\n",
              "       width=\"24px\">\n",
              "    <path d=\"M0 0h24v24H0V0z\" fill=\"none\"/>\n",
              "    <path d=\"M18.56 5.44l.94 2.06.94-2.06 2.06-.94-2.06-.94-.94-2.06-.94 2.06-2.06.94zm-11 1L8.5 8.5l.94-2.06 2.06-.94-2.06-.94L8.5 2.5l-.94 2.06-2.06.94zm10 10l.94 2.06.94-2.06 2.06-.94-2.06-.94-.94-2.06-.94 2.06-2.06.94z\"/><path d=\"M17.41 7.96l-1.37-1.37c-.4-.4-.92-.59-1.43-.59-.52 0-1.04.2-1.43.59L10.3 9.45l-7.72 7.72c-.78.78-.78 2.05 0 2.83L4 21.41c.39.39.9.59 1.41.59.51 0 1.02-.2 1.41-.59l7.78-7.78 2.81-2.81c.8-.78.8-2.07 0-2.86zM5.41 20L4 18.59l7.72-7.72 1.47 1.35L5.41 20z\"/>\n",
              "  </svg>\n",
              "      </button>\n",
              "      \n",
              "  <style>\n",
              "    .colab-df-container {\n",
              "      display:flex;\n",
              "      flex-wrap:wrap;\n",
              "      gap: 12px;\n",
              "    }\n",
              "\n",
              "    .colab-df-convert {\n",
              "      background-color: #E8F0FE;\n",
              "      border: none;\n",
              "      border-radius: 50%;\n",
              "      cursor: pointer;\n",
              "      display: none;\n",
              "      fill: #1967D2;\n",
              "      height: 32px;\n",
              "      padding: 0 0 0 0;\n",
              "      width: 32px;\n",
              "    }\n",
              "\n",
              "    .colab-df-convert:hover {\n",
              "      background-color: #E2EBFA;\n",
              "      box-shadow: 0px 1px 2px rgba(60, 64, 67, 0.3), 0px 1px 3px 1px rgba(60, 64, 67, 0.15);\n",
              "      fill: #174EA6;\n",
              "    }\n",
              "\n",
              "    [theme=dark] .colab-df-convert {\n",
              "      background-color: #3B4455;\n",
              "      fill: #D2E3FC;\n",
              "    }\n",
              "\n",
              "    [theme=dark] .colab-df-convert:hover {\n",
              "      background-color: #434B5C;\n",
              "      box-shadow: 0px 1px 3px 1px rgba(0, 0, 0, 0.15);\n",
              "      filter: drop-shadow(0px 1px 2px rgba(0, 0, 0, 0.3));\n",
              "      fill: #FFFFFF;\n",
              "    }\n",
              "  </style>\n",
              "\n",
              "      <script>\n",
              "        const buttonEl =\n",
              "          document.querySelector('#df-511f5220-bb8d-438d-b0a2-c8a65c820e67 button.colab-df-convert');\n",
              "        buttonEl.style.display =\n",
              "          google.colab.kernel.accessAllowed ? 'block' : 'none';\n",
              "\n",
              "        async function convertToInteractive(key) {\n",
              "          const element = document.querySelector('#df-511f5220-bb8d-438d-b0a2-c8a65c820e67');\n",
              "          const dataTable =\n",
              "            await google.colab.kernel.invokeFunction('convertToInteractive',\n",
              "                                                     [key], {});\n",
              "          if (!dataTable) return;\n",
              "\n",
              "          const docLinkHtml = 'Like what you see? Visit the ' +\n",
              "            '<a target=\"_blank\" href=https://colab.research.google.com/notebooks/data_table.ipynb>data table notebook</a>'\n",
              "            + ' to learn more about interactive tables.';\n",
              "          element.innerHTML = '';\n",
              "          dataTable['output_type'] = 'display_data';\n",
              "          await google.colab.output.renderOutput(dataTable, element);\n",
              "          const docLink = document.createElement('div');\n",
              "          docLink.innerHTML = docLinkHtml;\n",
              "          element.appendChild(docLink);\n",
              "        }\n",
              "      </script>\n",
              "    </div>\n",
              "  </div>\n",
              "  "
            ]
          },
          "metadata": {},
          "execution_count": 6
        }
      ]
    },
    {
      "cell_type": "code",
      "source": [
        "prices = df['price']\n",
        "features = df.drop('price', axis = 1)\n"
      ],
      "metadata": {
        "id": "kg_atnrVKf9G"
      },
      "execution_count": null,
      "outputs": []
    },
    {
      "cell_type": "code",
      "source": [
        "from sklearn.linear_model import LogisticRegression\n",
        "from sklearn.metrics import accuracy_score, confusion_matrix, classification_report\n",
        "from sklearn.model_selection import train_test_split\n"
      ],
      "metadata": {
        "id": "q7cG9dF0K4qB"
      },
      "execution_count": null,
      "outputs": []
    },
    {
      "cell_type": "code",
      "source": [
        "x = prices\n",
        "y = features"
      ],
      "metadata": {
        "id": "zlqk_kNBL3ub"
      },
      "execution_count": null,
      "outputs": []
    },
    {
      "cell_type": "code",
      "source": [
        "x_train, x_test, y_train, y_test = train_test_split(x, y, test_size = 0.3, random_state = 42)\n"
      ],
      "metadata": {
        "id": "tzgujT_5Mkuq"
      },
      "execution_count": null,
      "outputs": []
    },
    {
      "cell_type": "code",
      "source": [
        "for i in range(1, 10):\n",
        "  print(i)\n"
      ],
      "metadata": {
        "colab": {
          "base_uri": "https://localhost:8080/"
        },
        "id": "bYKqyNmbMuo3",
        "outputId": "a3d6e5af-a118-4d1a-b278-ef1b39f69de9"
      },
      "execution_count": null,
      "outputs": [
        {
          "output_type": "stream",
          "name": "stdout",
          "text": [
            "1\n",
            "2\n",
            "3\n",
            "4\n",
            "5\n",
            "6\n",
            "7\n",
            "8\n",
            "9\n"
          ]
        }
      ]
    },
    {
      "cell_type": "code",
      "source": [],
      "metadata": {
        "id": "ATe1FSOQ0aoh"
      },
      "execution_count": null,
      "outputs": []
    },
    {
      "cell_type": "code",
      "source": [
        "print(x_train.shape)\n",
        "print(x_test.shape)\n",
        "print(y_train.shape)\n",
        "print(y_test.shape)"
      ],
      "metadata": {
        "colab": {
          "base_uri": "https://localhost:8080/"
        },
        "id": "k1TbjwWMCVFM",
        "outputId": "22299ece-af67-4654-c111-f22792f3f1db"
      },
      "execution_count": null,
      "outputs": [
        {
          "output_type": "stream",
          "name": "stdout",
          "text": [
            "(381,)\n",
            "(164,)\n",
            "(381, 12)\n",
            "(164, 12)\n"
          ]
        }
      ]
    },
    {
      "cell_type": "code",
      "source": [],
      "metadata": {
        "id": "pX09vL72YY8N"
      },
      "execution_count": null,
      "outputs": []
    },
    {
      "cell_type": "code",
      "source": [
        "from sklearn.preprocessing import StandardScaler\n",
        "from sklearn.preprocessing import MinMaxScaler\n",
        "\n",
        "from sklearn.metrics import accuracy_score, confusion_matrix, classification_report\n",
        "sc = StandardScaler()\n",
        "#scaler_range = MinMaxScaler()\n",
        "\n",
        "ss = sc.fit_transform([x_train], y_train)\n",
        "\n",
        "# y_pred = sc.transform(x_test)\n",
        "\n",
        "print(ss)\n"
      ],
      "metadata": {
        "colab": {
          "base_uri": "https://localhost:8080/"
        },
        "id": "1sLoNqYk1LNX",
        "outputId": "8b4945cb-b083-47d3-dc2d-1307766b556c"
      },
      "execution_count": null,
      "outputs": [
        {
          "output_type": "stream",
          "name": "stdout",
          "text": [
            "[[0. 0. 0. 0. 0. 0. 0. 0. 0. 0. 0. 0. 0. 0. 0. 0. 0. 0. 0. 0. 0. 0. 0. 0.\n",
            "  0. 0. 0. 0. 0. 0. 0. 0. 0. 0. 0. 0. 0. 0. 0. 0. 0. 0. 0. 0. 0. 0. 0. 0.\n",
            "  0. 0. 0. 0. 0. 0. 0. 0. 0. 0. 0. 0. 0. 0. 0. 0. 0. 0. 0. 0. 0. 0. 0. 0.\n",
            "  0. 0. 0. 0. 0. 0. 0. 0. 0. 0. 0. 0. 0. 0. 0. 0. 0. 0. 0. 0. 0. 0. 0. 0.\n",
            "  0. 0. 0. 0. 0. 0. 0. 0. 0. 0. 0. 0. 0. 0. 0. 0. 0. 0. 0. 0. 0. 0. 0. 0.\n",
            "  0. 0. 0. 0. 0. 0. 0. 0. 0. 0. 0. 0. 0. 0. 0. 0. 0. 0. 0. 0. 0. 0. 0. 0.\n",
            "  0. 0. 0. 0. 0. 0. 0. 0. 0. 0. 0. 0. 0. 0. 0. 0. 0. 0. 0. 0. 0. 0. 0. 0.\n",
            "  0. 0. 0. 0. 0. 0. 0. 0. 0. 0. 0. 0. 0. 0. 0. 0. 0. 0. 0. 0. 0. 0. 0. 0.\n",
            "  0. 0. 0. 0. 0. 0. 0. 0. 0. 0. 0. 0. 0. 0. 0. 0. 0. 0. 0. 0. 0. 0. 0. 0.\n",
            "  0. 0. 0. 0. 0. 0. 0. 0. 0. 0. 0. 0. 0. 0. 0. 0. 0. 0. 0. 0. 0. 0. 0. 0.\n",
            "  0. 0. 0. 0. 0. 0. 0. 0. 0. 0. 0. 0. 0. 0. 0. 0. 0. 0. 0. 0. 0. 0. 0. 0.\n",
            "  0. 0. 0. 0. 0. 0. 0. 0. 0. 0. 0. 0. 0. 0. 0. 0. 0. 0. 0. 0. 0. 0. 0. 0.\n",
            "  0. 0. 0. 0. 0. 0. 0. 0. 0. 0. 0. 0. 0. 0. 0. 0. 0. 0. 0. 0. 0. 0. 0. 0.\n",
            "  0. 0. 0. 0. 0. 0. 0. 0. 0. 0. 0. 0. 0. 0. 0. 0. 0. 0. 0. 0. 0. 0. 0. 0.\n",
            "  0. 0. 0. 0. 0. 0. 0. 0. 0. 0. 0. 0. 0. 0. 0. 0. 0. 0. 0. 0. 0. 0. 0. 0.\n",
            "  0. 0. 0. 0. 0. 0. 0. 0. 0. 0. 0. 0. 0. 0. 0. 0. 0. 0. 0. 0. 0.]]\n"
          ]
        }
      ]
    },
    {
      "cell_type": "code",
      "source": [],
      "metadata": {
        "id": "Vk_oYHJ61-uM"
      },
      "execution_count": null,
      "outputs": []
    }
  ]
}